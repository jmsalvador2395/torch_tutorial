{
 "cells": [
  {
   "cell_type": "markdown",
   "metadata": {},
   "source": [
    "# Helpful Links\n",
    "\n",
    "#### NumPy\n",
    "* [API Reference](https://numpy.org/)\n",
    "* [numpy.org User Guide](https://numpy.org/doc/stable/user/)\n",
    "* [W3Schools Tutorials](https://www.w3schools.com/python/numpy/default.asp)\n",
    "\n",
    "#### PyTorch\n",
    "* [API Reference](https://pytorch.org/)\n",
    "* [pytorch.org Tutorials](https://pytorch.org/tutorials/index.html)\n",
    "* [GeeksForGeeks Brief Intro](https://www.geeksforgeeks.org/start-learning-pytorch-for-beginners/)\n",
    "* [learnpytorch.io](https://www.learnpytorch.io/)"
   ]
  },
  {
   "cell_type": "markdown",
   "metadata": {},
   "source": [
    "# Initial Setup"
   ]
  },
  {
   "cell_type": "code",
   "execution_count": 3,
   "metadata": {},
   "outputs": [],
   "source": [
    "import torch\n",
    "import numpy as np\n",
    "\n",
    "# Set this to whatever you want\n",
    "seed = 10\n",
    "\n",
    "#torch.manual_seed(seed)\n",
    "#np.random.seed(seed)\n",
    "\n",
    "%load_ext autoreload\n",
    "%autoreload 2\n",
    "%matplotlib inline"
   ]
  },
  {
   "cell_type": "markdown",
   "metadata": {},
   "source": [
    "# NumPy Arrays\n",
    "\n",
    "[NumPy](https://numpy.org/devdocs/index.html) is a library that provides a wide range of functionality that is primarily designed around processing [arrays](https://numpy.org/doc/stable/reference/generated/numpy.array.html).\n",
    "\n",
    "NumPy arrays can be used just like a list.  \n",
    "For example, let's multiply the matrices, $A=\\begin{bmatrix} 1 & 2 \\\\ 3 & 4\\end{bmatrix}$ and $B=\\begin{bmatrix} 5 & 6 \\\\ 7 & 8 \\end{bmatrix}$"
   ]
  },
  {
   "cell_type": "code",
   "execution_count": 9,
   "metadata": {},
   "outputs": [
    {
     "name": "stdout",
     "output_type": "stream",
     "text": [
      "Matrix multiplication on lists: 69\n",
      "Matrix multiplication on numpy arrays: 69\n"
     ]
    }
   ],
   "source": [
    "\n",
    "# Make lists\n",
    "A = [[1, 2], [3, 4]]\n",
    "B = [[5, 6], [7, 8]]\n",
    "\n",
    "# Make NumPy arrays\n",
    "A_np = np.array(A)\n",
    "B_np = np.array(B)\n",
    "\n",
    "# Manually matrix multiply the lists\n",
    "list_result = 0\n",
    "numpy_result = 0\n",
    "nrows, ncols = 2, 2\n",
    "\n",
    "for row in range(nrows):\n",
    "    for col in range(ncols):\n",
    "        list_result += A[row][col]*B[col][row]\n",
    "        numpy_result += A_np[row, col]*B_np[col, row]\n",
    "\n",
    "print(f'Matrix multiplication on lists: {list_result}')\n",
    "print(f'Matrix multiplication on numpy arrays: {numpy_result}')"
   ]
  },
  {
   "cell_type": "code",
   "execution_count": null,
   "metadata": {},
   "outputs": [],
   "source": [
    "# element-wise "
   ]
  }
 ],
 "metadata": {
  "kernelspec": {
   "display_name": "env",
   "language": "python",
   "name": "python3"
  },
  "language_info": {
   "codemirror_mode": {
    "name": "ipython",
    "version": 3
   },
   "file_extension": ".py",
   "mimetype": "text/x-python",
   "name": "python",
   "nbconvert_exporter": "python",
   "pygments_lexer": "ipython3",
   "version": "3.11.8"
  }
 },
 "nbformat": 4,
 "nbformat_minor": 2
}
