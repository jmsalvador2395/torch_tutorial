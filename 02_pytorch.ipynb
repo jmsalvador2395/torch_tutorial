{
 "cells": [
  {
   "cell_type": "markdown",
   "metadata": {},
   "source": [
    "# Helpful Links\n",
    "\n",
    "#### PyTorch\n",
    "* [API Reference](https://pytorch.org/)\n",
    "* [pytorch.org Tutorials](https://pytorch.org/tutorials/index.html)\n",
    "* [GeeksForGeeks Brief Intro](https://www.geeksforgeeks.org/start-learning-pytorch-for-beginners/)\n",
    "* [learnpytorch.io](https://www.learnpytorch.io/)\n"
   ]
  },
  {
   "cell_type": "markdown",
   "metadata": {},
   "source": [
    "# Initial Setup"
   ]
  },
  {
   "cell_type": "code",
   "execution_count": 24,
   "metadata": {},
   "outputs": [
    {
     "name": "stdout",
     "output_type": "stream",
     "text": [
      "The autoreload extension is already loaded. To reload it, use:\n",
      "  %reload_ext autoreload\n"
     ]
    }
   ],
   "source": [
    "import numpy as np\n",
    "import time\n",
    "import torch\n",
    "from matplotlib import pyplot as plt\n",
    "from torch import nn\n",
    "from tqdm.notebook import tqdm\n",
    "\n",
    "%load_ext autoreload\n",
    "%autoreload 2\n",
    "%matplotlib inline"
   ]
  },
  {
   "cell_type": "markdown",
   "metadata": {},
   "source": [
    "# Torch Tensors\n",
    "\n",
    "PyTorch provides many of the same functionalities as NumPy.\n",
    "The pytorch equivalent to numpy array is the \n",
    "[torch tensor](https://pytorch.org/docs/stable/generated/torch.tensor.html)"
   ]
  },
  {
   "cell_type": "markdown",
   "metadata": {},
   "source": [
    "Let's define a numpy array and torch tensor variant of the following:\n",
    "\n",
    "$$\n",
    "A = \n",
    "\\begin{bmatrix}\n",
    "1 & 2 \\\\ \n",
    "3 & 4 \\\\\n",
    "5 & 6 \n",
    "\\end{bmatrix}\n",
    "\n",
    "\\text{and }\n",
    "\n",
    "B = \n",
    "\\begin{bmatrix}\n",
    "7 & 8  & 9  \\\\\n",
    "9 & 10 & 11\n",
    "\\end{bmatrix}\n",
    "$$"
   ]
  },
  {
   "cell_type": "code",
   "execution_count": 2,
   "metadata": {},
   "outputs": [],
   "source": [
    "# Define matrix as a list\n",
    "A = [[1, 2],\n",
    "     [3, 4],\n",
    "     [5, 6]]\n",
    "B = [[7,  8,  9 ],\n",
    "     [10, 11, 12]]\n",
    "\n",
    "# Create pytorch variant\n",
    "A_pt = torch.tensor(A)\n",
    "B_pt = torch.tensor(B)\n",
    "\n",
    "# Convert from pytorch to numpy directly\n",
    "A_np = A_pt.numpy()\n",
    "B_np = B_pt.numpy()\n"
   ]
  },
  {
   "cell_type": "markdown",
   "metadata": {},
   "source": [
    "Let's compare some of the functionality that remains the same between\n",
    "NumPy and PyTorch"
   ]
  },
  {
   "cell_type": "markdown",
   "metadata": {},
   "source": [
    "### Prerequisite\n",
    "\n",
    "We'll be using some built-in functions to evaluate the equivalency\n",
    "of numpy arrays and torch tensors"
   ]
  },
  {
   "cell_type": "markdown",
   "metadata": {},
   "source": [
    "The `==` operator when used between tensors or numpy arrays computes\n",
    "element-wise equivalency"
   ]
  },
  {
   "cell_type": "code",
   "execution_count": 3,
   "metadata": {},
   "outputs": [
    {
     "name": "stdout",
     "output_type": "stream",
     "text": [
      "tensor([True, True, True])\n",
      "tensor([False,  True,  True])\n"
     ]
    }
   ],
   "source": [
    "# Example 1: all elements are equal\n",
    "print(\n",
    "    torch.tensor([1, 2, 3]) \\\n",
    "    == torch.tensor([1, 2, 3])\n",
    ")\n",
    "\n",
    "# Example 2: Some not equal\n",
    "print(\n",
    "    torch.tensor([0, 2, 3]) \\\n",
    "    == torch.tensor([1, 2, 3])\n",
    ")"
   ]
  },
  {
   "cell_type": "markdown",
   "metadata": {},
   "source": [
    "`torch.all()` checks if all the values of a tensor are True"
   ]
  },
  {
   "cell_type": "code",
   "execution_count": 4,
   "metadata": {},
   "outputs": [
    {
     "name": "stdout",
     "output_type": "stream",
     "text": [
      "tensor(True)\n",
      "tensor(False)\n"
     ]
    }
   ],
   "source": [
    "# example of a true case:\n",
    "print(\n",
    "    torch.all(torch.tensor([True, True, True]))\n",
    ")\n",
    "\n",
    "# example of a false case\n",
    "print(\n",
    "    torch.all(torch.tensor([False, True, True]))\n",
    ")"
   ]
  },
  {
   "cell_type": "markdown",
   "metadata": {},
   "source": [
    "## Some Examples of Equivalent Functionality"
   ]
  },
  {
   "cell_type": "code",
   "execution_count": 5,
   "metadata": {},
   "outputs": [
    {
     "name": "stdout",
     "output_type": "stream",
     "text": [
      "matrix multiplications are equivalent: True\n",
      "element-wise addition/subtraction is equivalent: True\n",
      "torch.arange is equivalent to np.arange: True\n",
      "A_pt.T is equivalent to A_np.T: True\n",
      "pytorch indexing is the same as numpy indexing: True\n"
     ]
    }
   ],
   "source": [
    "# perform matrix multiplication and compare outputs\n",
    "print(\n",
    "    f'matrix multiplications are equivalent: '\n",
    "    f'{torch.all(A_pt@B_pt == A_np@B_np)}'\n",
    ")\n",
    "\n",
    "# compare element-wise addition\n",
    "print(\n",
    "    f'element-wise addition/subtraction is equivalent: '\n",
    "    f'{torch.all(A_pt+A_pt == A_np+A_np)}'\n",
    ")\n",
    "\n",
    "# compare the arange functions\n",
    "print(\n",
    "    f'torch.arange is equivalent to np.arange: '\n",
    "    f'{torch.all(torch.arange(10) == np.arange(10))}'\n",
    ")\n",
    "\n",
    "# compare transpose functions\n",
    "print(\n",
    "    f'A_pt.T is equivalent to A_np.T: '\n",
    "    f'{torch.all(A_pt.T == A_np.T)}'\n",
    ")\n",
    "\n",
    "# compare indexing\n",
    "rows = [0, 1, 2]\n",
    "cols = [0, 1, 0]\n",
    "print(\n",
    "    f'pytorch indexing is the same as numpy indexing: '\n",
    "    f'{torch.all(A_pt[rows, cols] == A_np[rows, cols])}'\n",
    ")"
   ]
  },
  {
   "cell_type": "markdown",
   "metadata": {},
   "source": [
    "# The Differences Between PyTorch and NumPy\n",
    "\n",
    "While pytorch extends a lot of the functionality of numpy, the advantage\n",
    "of pytorch can be seen in 3 of its built-in functionalities.\n",
    "\n",
    "* [GPU Compute Using CUDA](https://pytorch.org/docs/stable/notes/cuda.html)\n",
    "* [Autograd](https://pytorch.org/tutorials/beginner/introyt/autogradyt_tutorial.html)\n",
    "* [A Large Library of Deep Learning Bulding Blocks](https://pytorch.org/tutorials/beginner/nn_tutorial.html)"
   ]
  },
  {
   "cell_type": "markdown",
   "metadata": {},
   "source": [
    "## GPU Compute Using CUDA\n",
    "\n",
    "**NOTE**: If you do not have a CUDA capable machine then the following\n",
    "code will not work unless you change the `device` variable to \n",
    "`device='cpu'`. Doing this will not give proper speed measurements but\n",
    "will allow you to run the code.\n",
    "\n",
    "GPUs are very good at high-throughput tensor operations. Let's see some\n",
    "examples."
   ]
  },
  {
   "cell_type": "code",
   "execution_count": 6,
   "metadata": {},
   "outputs": [],
   "source": [
    "# set device\n",
    "device = 'cuda'\n",
    "#device = 'cpu' # use this if cuda is unavailable"
   ]
  },
  {
   "cell_type": "code",
   "execution_count": 7,
   "metadata": {},
   "outputs": [
    {
     "name": "stdout",
     "output_type": "stream",
     "text": [
      "numpy speed / torch speed: 19.13346999745741\n"
     ]
    }
   ],
   "source": [
    "# define a high value of N\n",
    "N = 1_000_000_000\n",
    "\n",
    "# define random pytorch tensors\n",
    "A_pt = torch.randn(N, device=device)\n",
    "B_pt = torch.randn(N, device=device)\n",
    "\n",
    "# convert tensors to numpy arrays (converting from gpu requires\n",
    "# that .cpu() be called on the tensor first\n",
    "A_np = A_pt.cpu().numpy()\n",
    "B_np = B_pt.cpu().numpy()\n",
    "\n",
    "# time a numpy dot product\n",
    "start = time.time()\n",
    "A_np@B_np\n",
    "end = time.time()\n",
    "time_np = end - start\n",
    "\n",
    "# time a torch dot product\n",
    "start = time.time()\n",
    "A_pt@B_pt\n",
    "end = time.time()\n",
    "time_pt = end - start\n",
    "\n",
    "print(f'numpy speed / torch speed: {time_np / time_pt}')\n"
   ]
  },
  {
   "cell_type": "markdown",
   "metadata": {},
   "source": [
    "## Speed-up Over NumPy\n",
    "\n",
    "We measured an up to 200x performance gain from numpy over lists.\n",
    "Low let's compare the speed up of CUDA accelerated PyTorch over NumPy\n"
   ]
  },
  {
   "cell_type": "code",
   "execution_count": 15,
   "metadata": {},
   "outputs": [
    {
     "data": {
      "application/vnd.jupyter.widget-view+json": {
       "model_id": "1cb88dd0ceee43279be33c5e22c4c2b8",
       "version_major": 2,
       "version_minor": 0
      },
      "text/plain": [
       "  0%|          | 0/50 [00:00<?, ?it/s]"
      ]
     },
     "metadata": {},
     "output_type": "display_data"
    },
    {
     "data": {
      "text/plain": [
       "<matplotlib.legend.Legend at 0x7fc3246538d0>"
      ]
     },
     "execution_count": 15,
     "metadata": {},
     "output_type": "execute_result"
    },
    {
     "data": {
      "image/png": "[encoded data removed]",
      "text/plain": [
       "<Figure size 640x480 with 2 Axes>"
      ]
     },
     "metadata": {},
     "output_type": "display_data"
    }
   ],
   "source": [
    "# define number of data points\n",
    "num_points = 50\n",
    "\n",
    "# create an array of equidistant N values from 10 to 1,000,000,000\n",
    "N_vals = np.linspace(\n",
    "    10, \n",
    "    100_000_000, \n",
    "    num_points, \n",
    "    dtype=np.int32\n",
    ")\n",
    "\n",
    "# initialize arrays of times\n",
    "np_times = np.zeros(num_points)\n",
    "pt_gpu_times = np.zeros(num_points)\n",
    "pt_cpu_times = np.zeros(num_points)\n",
    "\n",
    "# loop over N values\n",
    "for i, N in tqdm(enumerate(N_vals), total=len(N_vals)):\n",
    "\n",
    "    # create new arrays of length=N\n",
    "    A_np = np.random.randn(N)\n",
    "    B_np = np.random.randn(N)\n",
    "\n",
    "    # time the numpy dot product\n",
    "    start = time.time()\n",
    "    A_np@B_np\n",
    "    end = time.time()\n",
    "    np_times[i] = end - start\n",
    "\n",
    "    # convert arrays to torch tensors\n",
    "    A_pt_cpu = torch.tensor(A_np)\n",
    "    B_pt_cpu = torch.tensor(B_np)\n",
    "\n",
    "    # time the torch cpu dot product\n",
    "    start = time.time()\n",
    "    A_pt_cpu@B_pt_cpu\n",
    "    end = time.time()\n",
    "    pt_cpu_times[i] = end - start\n",
    "\n",
    "    # move tensors to device\n",
    "    A_pt_gpu = A_pt_cpu.to(device)\n",
    "    B_pt_gpu = B_pt_cpu.to(device)\n",
    "\n",
    "    # time the torch cpu dot product\n",
    "    start = time.time()\n",
    "    A_pt_gpu@B_pt_gpu\n",
    "    end = time.time()\n",
    "    pt_gpu_times[i] = end - start\n",
    "\n",
    "\n",
    "# plot results\n",
    "fig, ax = plt.subplots(2, 1)\n",
    "\n",
    "# plot raw times\n",
    "ax[0].plot(N_vals, np_times, label='NumPy Times')\n",
    "ax[0].plot(N_vals, pt_cpu_times, label='Torch CPU Times')\n",
    "ax[0].plot(N_vals, pt_gpu_times, label='Torch GPU Times')\n",
    "ax[0].legend()\n",
    "\n",
    "# plot time ratios\n",
    "ax[1].plot(N_vals, np_times/pt_gpu_times, label='Speed Up')\n",
    "ax[1].legend()\n"
   ]
  },
  {
   "cell_type": "markdown",
   "metadata": {},
   "source": [
    "# Autograd\n",
    "\n",
    "[Backpropagation](https://en.wikipedia.org/wiki/Backpropagation) is the\n",
    "engine behind the *learning* in neural network architectures.\n",
    "During this process, the gradients of our objective functions need to\n",
    "be computed in order to adjust the model parameters in the direction\n",
    "that achieves optimality. \n",
    "\n",
    "There are many complex functions that are\n",
    "computed during the forward pass of a neural network and computing those\n",
    "gradients by hand is cumbersome. \n",
    "For that reason, PyTorch (and other deep learning libraries) provide\n",
    "a system that lets you compute your gradients automatically.\n",
    "\n",
    "read more [here](https://pytorch.org/tutorials/beginner/introyt/autogradyt_tutorial.html)"
   ]
  },
  {
   "cell_type": "markdown",
   "metadata": {},
   "source": [
    "Let's see a small example. "
   ]
  },
  {
   "cell_type": "code",
   "execution_count": 22,
   "metadata": {},
   "outputs": [
    {
     "name": "stdout",
     "output_type": "stream",
     "text": [
      "parameters: tensor([-1.2657, -0.1877, -1.3042, -0.2233], requires_grad=True)\n",
      "\n",
      "prediction score: tensor([4.4134], grad_fn=<AddBackward0>)\n",
      "notice the `grad_fn` field\n",
      "\n",
      "loss: tensor([11.6511], grad_fn=<PowBackward0>)\n",
      "parameter gradients: tensor([ -5.5945,  -9.5991, -13.5037,   4.0393])\n",
      "\n",
      "bias gradient: tensor([6.8267])\n"
     ]
    }
   ],
   "source": [
    "# define a small value of N for creating tensors\n",
    "N = 4\n",
    "\n",
    "# Create a tensor using the `requires_grad=True` argument\n",
    "params = torch.randn(N, requires_grad=True)\n",
    "bias = torch.randn(1, requires_grad=True)\n",
    "print(f'parameters: {params}\\n')\n",
    "\n",
    "# create a data and label pair\n",
    "x, y = torch.randn(N), torch.tensor(1)\n",
    "\n",
    "# compute logit\n",
    "pred = x@params + bias\n",
    "print(\n",
    "    f'prediction score: '\n",
    "    f'{pred}\\n'\n",
    "    f'notice the `grad_fn` field\\n'\n",
    ")\n",
    "\n",
    "# compute squared loss\n",
    "loss = (y - pred)**2\n",
    "print(f'loss: {loss}')\n",
    "\n",
    "# compute backpropagation to get gradients\n",
    "loss.backward()\n",
    "print(f'parameter gradients: {params.grad}\\n')\n",
    "print(f'bias gradient: {bias.grad}')\n"
   ]
  },
  {
   "cell_type": "markdown",
   "metadata": {},
   "source": [
    "## Deep Learning Building Blocks\n",
    "\n",
    "PyTorch comes packed with the tools needed to train and deploy\n",
    "state-of-the-art neural network architectures.\n",
    "\n",
    "These include mainly \n",
    "[optimizers](https://pytorch.org/docs/stable/optim.html) and\n",
    "[neural network layers](https://pytorch.org/docs/stable/nn.html) \n",
    "but also comes with more advanced features like\n",
    "[multi-gpu](https://pytorch.org/docs/stable/fsdp.html) training features\n",
    "and \n",
    "[training-time logging](https://pytorch.org/docs/stable/tensorboard.html)\n",
    "\n",
    "In the next 2 examples, we'll use PyTorch to create the architecture for\n",
    "a basic \n",
    "[multilayer perceptron](https://en.wikipedia.org/wiki/Multilayer_perceptron) \n",
    "and then we'll also go to the other extreme and construct the \n",
    "$\\text{BERT}_{\\text{Large}}$ model as described in\n",
    "[the paper](https://aclanthology.org/N19-1423/)"
   ]
  },
  {
   "cell_type": "markdown",
   "metadata": {},
   "source": [
    "### Example 1: The Multilayer Perceptron\n",
    "\n",
    "The MLP on its own is a very powerful nonlinear classification model.\n",
    "For this code we will create a 2-layer MLP with $500$ neurons and a\n",
    "*ReLU* activation function"
   ]
  },
  {
   "cell_type": "code",
   "execution_count": 44,
   "metadata": {},
   "outputs": [],
   "source": [
    "# We'll use this function to count the number of parameters in each \n",
    "# model\n",
    "def count_trainable_params(model: nn.Module) -> int:\n",
    "    \"\"\"\n",
    "    returns the count of learnable parameters in a torch nn.Module\n",
    "\n",
    "    Input:\n",
    "    - model[nn.Module]: the model we want the parameter count of\n",
    "\n",
    "    Output:\n",
    "    - int: the count of trainable parameters in the model\n",
    "    \"\"\"\n",
    "    return sum(p.numel() for p in model.parameters() if p.requires_grad)"
   ]
  },
  {
   "cell_type": "code",
   "execution_count": 27,
   "metadata": {},
   "outputs": [],
   "source": [
    "# Define MLP or 2-Layer NN as a class\n",
    "class MLP(nn.Module):\n",
    "\n",
    "    # define the constructor function\n",
    "    def __init__(\n",
    "            self, \n",
    "            in_features=200,  # number of input features\n",
    "            hidden_size=500,  # number of hidden neurons\n",
    "            out_features=10): # number of classes\n",
    "\n",
    "        # always need to do this for nn.Module classes\n",
    "        super().__init__()\n",
    "\n",
    "        # define the first layer of the MLP\n",
    "        self.layer1 = nn.Linear(in_features, hidden_size)\n",
    "\n",
    "        # define the activation layer\n",
    "        self.activation = nn.ReLU()\n",
    "\n",
    "        # define the output layer\n",
    "        self.layer2 = nn.Linear(hidden_size, out_features)\n",
    "    \n",
    "    # define the function that is used for generating predictions\n",
    "    def forward(self, X):\n",
    "\n",
    "        # call forward pass using the first layer\n",
    "        out = self.layer1(X)\n",
    "        \n",
    "        # compute the activations\n",
    "        out = self.activation(out)\n",
    "\n",
    "        # compute the logits\n",
    "        out = self.layer2(out)\n",
    "\n",
    "        return out\n"
   ]
  },
  {
   "cell_type": "markdown",
   "metadata": {},
   "source": [
    "Using this class definition, we can create an MLP object and compute a\n",
    "forward pass on some data"
   ]
  },
  {
   "cell_type": "code",
   "execution_count": 28,
   "metadata": {},
   "outputs": [
    {
     "name": "stdout",
     "output_type": "stream",
     "text": [
      "MLP Architecture:\n",
      "MLP(\n",
      "  (layer1): Linear(in_features=200, out_features=500, bias=True)\n",
      "  (activation): ReLU()\n",
      "  (layer2): Linear(in_features=500, out_features=10, bias=True)\n",
      ")\n",
      "forward pass result: tensor([-0.2062, -0.0701,  0.1828,  0.1070,  0.4069,  0.1518, -0.1073, -0.1122,\n",
      "         0.1836, -0.1497], grad_fn=<ViewBackward0>)\n"
     ]
    }
   ],
   "source": [
    "mlp = MLP(\n",
    "    in_features=200,\n",
    "    hidden_size=500,\n",
    "    out_features=10,\n",
    ")\n",
    "print(f'MLP Architecture:\\n{mlp}')\n",
    "\n",
    "# create a dummy sample\n",
    "x, y = torch.randn(200), 5\n",
    "\n",
    "# compute forward pass\n",
    "print(f'forward pass result: {mlp(x)}')"
   ]
  },
  {
   "cell_type": "markdown",
   "metadata": {},
   "source": [
    "### Example 2: BERT\n",
    "\n",
    "Now we'll create a relatively more modern architecture as described in \n",
    "*BERT: Pre-training of Deep Bidirectional Transformers for Language Understanding*.\n",
    "Published in NAACL 2019, Devlin et al. released a pretrained transofrmer\n",
    "model that could be fine-tuned to achieve state-of-the-art results on\n",
    "several NLP benchmarks.\n",
    "\n",
    "Let's build this model out in pytorch."
   ]
  },
  {
   "cell_type": "code",
   "execution_count": 62,
   "metadata": {},
   "outputs": [],
   "source": [
    "# define BERT model\n",
    "class BERT(nn.Module):\n",
    "    def __init__(self,\n",
    "                 d_model=1024, # model hidden dimensions\n",
    "                 n_head=16, # number of attention heads\n",
    "                 n_layers=24, # number of transformer layers\n",
    "                 n_vocab=30_522, # vocab size\n",
    "                 seq_len=512, # the maximum sequence length\n",
    "                 dim_feedforward=4096, # feed forward layers (4x\n",
    "                 dropout=0.1, # dropout probability\n",
    "                 layer_norm_eps=1e-05,\n",
    "                 norm_first=False,\n",
    "                 bias=True,\n",
    "                 **kwargs):\n",
    "\n",
    "        super(BERT, self).__init__()\n",
    "\n",
    "        # define a single transformer encoder layer\n",
    "        layer = nn.TransformerEncoderLayer(\n",
    "            d_model,\n",
    "            n_head,\n",
    "            batch_first=True,\n",
    "            dim_feedforward=dim_feedforward,\n",
    "            dropout=dropout,\n",
    "            activation='gelu', # BERT paper specifies gelu\n",
    "            layer_norm_eps=layer_norm_eps,\n",
    "            norm_first=norm_first,\n",
    "            bias=bias,\n",
    "        )\n",
    "\n",
    "        # create embedding layer for tokens\n",
    "        self.token_emb = nn.Embedding(\n",
    "            n_vocab,\n",
    "            d_model,\n",
    "        )\n",
    "\n",
    "        # create learned positional embeddings\n",
    "        self.position_emb = nn.Parameter(\n",
    "            torch.rand(seq_len, d_model)\n",
    "        )\n",
    "\n",
    "        # create segment embeddings\n",
    "        self.segment_emb = nn.Embedding(\n",
    "            2,\n",
    "            d_model,\n",
    "        )\n",
    "\n",
    "        # use single transformer layer to create multiple\n",
    "        self.transformer = nn.TransformerEncoder(\n",
    "            layer,\n",
    "            n_layers,\n",
    "        )\n",
    "\n",
    "        # create classifier for Masked Language Modeling objective\n",
    "        self.mlm_cls = nn.Linear(d_model, n_vocab)\n",
    "\n",
    "        # create classifier for Next Sentence Prediction objective\n",
    "        self.nsp_cls = nn.Linear(d_model, 2)\n",
    "\n",
    "    def forward(self, input_ids, attention_mask, segment_ids=None):\n",
    "        \"\"\"\n",
    "        returns scores for MLM and NSP\n",
    "        \"\"\"\n",
    "\n",
    "        N, S = attention_mask.shape\n",
    "        pad_mask = ~attention_mask.to(torch.bool)\n",
    "\n",
    "        # apply embeddings\n",
    "        scores = self.token_emb(input_ids)\n",
    "        if segment_ids is None:\n",
    "            segment_ids = torch.zeros_like(input_ids)\n",
    "        scores += self.segment_emb(segment_ids)\n",
    "        scores += self.position_emb[None, :S]\n",
    "\n",
    "        # pass through transformer\n",
    "        scores = self.transformer(\n",
    "            scores, \n",
    "            src_key_padding_mask=pad_mask,\n",
    "        )\n",
    "\n",
    "        mlm_scores = self.mlm_cls(scores)\n",
    "        nsp_scores = self.nsp_cls(scores[:, 0, :])\n",
    "\n",
    "        return mlm_scores, nsp_scores\n"
   ]
  },
  {
   "cell_type": "code",
   "execution_count": 61,
   "metadata": {},
   "outputs": [
    {
     "name": "stdout",
     "output_type": "stream",
     "text": [
      "365,377,340\n",
      "mlm scores: tensor([[[ 0.3407,  0.0252, -0.7845,  ..., -0.1492,  0.6871,  0.5431],\n",
      "         [ 0.0805, -0.0047, -0.8406,  ..., -0.0069,  0.7734,  0.4840],\n",
      "         [ 0.2772, -0.0101, -0.7831,  ..., -0.0438,  0.6096,  0.4820],\n",
      "         [ 0.1742, -0.0216, -0.7619,  ..., -0.2716,  0.8262,  0.5128]]],\n",
      "       grad_fn=<ViewBackward0>)\n",
      "nsp scores: tensor([[-0.6861, -0.2319]], grad_fn=<AddmmBackward0>)\n"
     ]
    }
   ],
   "source": [
    "# Create model and print parameter counts\n",
    "# NOTE: There is an extra ~20M parameters due to the addition of\n",
    "#       the mlm_cls and nsp_cls parameters that get tossed after \n",
    "#       training\n",
    "bert = BERT()\n",
    "print(f'{count_trainable_params(bert):,}')\n",
    "\n",
    "# create dummy data\n",
    "tokens = torch.tensor([[1, 2, 3, 4]])\n",
    "mask = torch.tensor([[1, 1, 1, 1]])\n",
    "\n",
    "# test a forward pass\n",
    "mlm_scores, nsp_scores = bert(tokens, mask)\n",
    "print(\n",
    "    f'mlm scores: {mlm_scores}\\n'\n",
    "    f'nsp scores: {nsp_scores}'\n",
    ")"
   ]
  }
 ],
 "metadata": {
  "kernelspec": {
   "display_name": "env",
   "language": "python",
   "name": "python3"
  },
  "language_info": {
   "codemirror_mode": {
    "name": "ipython",
    "version": 3
   },
   "file_extension": ".py",
   "mimetype": "text/x-python",
   "name": "python",
   "nbconvert_exporter": "python",
   "pygments_lexer": "ipython3",
   "version": "3.11.8"
  }
 },
 "nbformat": 4,
 "nbformat_minor": 2
}
